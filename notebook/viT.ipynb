{
 "cells": [
  {
   "cell_type": "code",
   "execution_count": 1,
   "metadata": {},
   "outputs": [],
   "source": [
    "import os\n",
    "from PIL import Image\n",
    "import torch\n",
    "import torch.nn as nn\n",
    "import torchvision\n",
    "from torch.utils.data import Dataset, DataLoader, random_split\n",
    "from torchvision import transforms\n",
    "import pandas as pd\n",
    "from sklearn.preprocessing import LabelEncoder\n",
    "from matplotlib.pyplot import subplots\n",
    "import joblib\n",
    "\n",
    "# Device configuration\n",
    "device = torch.device('cuda' if torch.cuda.is_available() else 'cpu')\n",
    "import os\n",
    "os.environ[\"CUDA_LAUNCH_BLOCKING\"] = \"1\""
   ]
  },
  {
   "cell_type": "code",
   "execution_count": 2,
   "metadata": {},
   "outputs": [],
   "source": [
    "root_dir = 'C:/Users/elmow/Documents/Kaggle/Dog_Classification/data/train'\n",
    "csv_file = 'C:/Users/elmow\\Documents/Kaggle/Dog_Classification/data/labels.csv'"
   ]
  },
  {
   "cell_type": "code",
   "execution_count": 4,
   "metadata": {},
   "outputs": [],
   "source": [
    "#Hyperparameters\n",
    "TRAIN_SIZE = 0.8\n",
    "TEST_SIZE = 0.2\n",
    "BATCH_SIZE = 64"
   ]
  },
  {
   "cell_type": "code",
   "execution_count": 5,
   "metadata": {},
   "outputs": [],
   "source": [
    "class CustomImageDataset(Dataset):\n",
    "    def __init__(self, root_dir, csv_file, transform=None):\n",
    "        self.data = csv_file\n",
    "        self.root_dir = root_dir\n",
    "        self.transform = transform\n",
    "    def __len__(self):\n",
    "        return len(self.data)\n",
    "\n",
    "    def __getitem__(self, idx):\n",
    "        img_name = os.path.join(self.root_dir, self.data.loc[idx, \"id\"] + \".jpg\")\n",
    "        image = Image.open(img_name)\n",
    "        label_int = torch.tensor(self.data.loc[idx, \"breed\"], dtype=torch.long)\n",
    "        # one_hot_label = torch.zeros(self.num_classes)\n",
    "        # one_hot_label[label_int] = 1\n",
    "        if self.transform:\n",
    "            image = self.transform(image)\n",
    "        return image, label_int\n",
    "\n",
    "labels_df = pd.read_csv(csv_file)\n",
    "num_classes = labels_df['breed'].nunique()\n",
    "\n",
    "# Create a label encoder object\n",
    "#class_encoder\n",
    "\n",
    "\n",
    "# Fit and transform the 'breed' column to get integer labels\n",
    "for i in range(labels_df.shape[0]):\n",
    "    labels_df.loc[i, 'breed'] = mapping[labels_df.loc[i, 'breed']]\n",
    "\n",
    "#Data Transforms\n",
    "transform = transforms.Compose([\n",
    "    transforms.Resize((224, 224)),\n",
    "    transforms.ToTensor(),\n",
    "    transforms.Normalize(mean=[0.485, 0.456, 0.406], std=[0.229, 0.224, 0.225])  # Imagenet normalization\n",
    "])\n",
    "\n",
    "#Datasets\n",
    "dataset = CustomImageDataset(root_dir=root_dir, csv_file=labels_df, transform=transform)\n",
    "total_samples = len(dataset)\n",
    "train_size = TRAIN_SIZE\n",
    "test_size = TEST_SIZE\n",
    "train_dataset, test_dataset = random_split(dataset, [train_size, test_size])\n",
    "\n",
    "train_loader = DataLoader(train_dataset, batch_size=BATCH_SIZE, shuffle=True)\n",
    "test_loader = DataLoader(test_dataset, batch_size=BATCH_SIZE, shuffle=False)"
   ]
  },
  {
   "cell_type": "code",
   "execution_count": null,
   "metadata": {},
   "outputs": [],
   "source": []
  }
 ],
 "metadata": {
  "kernelspec": {
   "display_name": "DBCL Main",
   "language": "python",
   "name": "dbcl_main"
  },
  "language_info": {
   "codemirror_mode": {
    "name": "ipython",
    "version": 3
   },
   "file_extension": ".py",
   "mimetype": "text/x-python",
   "name": "python",
   "nbconvert_exporter": "python",
   "pygments_lexer": "ipython3",
   "version": "3.11.5"
  }
 },
 "nbformat": 4,
 "nbformat_minor": 2
}
